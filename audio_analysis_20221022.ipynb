{
 "cells": [
  {
   "cell_type": "code",
   "execution_count": 1,
   "id": "b63c134a",
   "metadata": {},
   "outputs": [],
   "source": [
    "import os\n",
    "import torch\n",
    "import torchaudio\n",
    "from matplotlib import pyplot as plt\n",
    "from IPython.display import Audio, display, clear_output\n",
    "import math\n",
    "import numpy as np\n",
    "import pandas as pd\n",
    "import pickle\n",
    "import time\n",
    "import shutil\n",
    "from cepstrum import cepstrum"
   ]
  },
  {
   "cell_type": "code",
   "execution_count": 15,
   "id": "fd1dcb75",
   "metadata": {},
   "outputs": [
    {
     "name": "stdout",
     "output_type": "stream",
     "text": [
      "Once deleted, variables cannot be recovered. Proceed (y/[n])? y\n"
     ]
    }
   ],
   "source": [
    "%reset"
   ]
  },
  {
   "cell_type": "code",
   "execution_count": 46,
   "id": "de08d7ba",
   "metadata": {},
   "outputs": [],
   "source": [
    "class Station:\n",
    "    \n",
    "    def __init__(self, name, thrshold):\n",
    "        self.name = name\n",
    "        self.thrshold = thrshold\n",
    "        self.events = []\n",
    "        \n",
    "    def set_event(self, event):\n",
    "        if (event.duration >= self.thrshold):\n",
    "            self.events.append(event)\n",
    "\n",
    "class Event:\n",
    "    \n",
    "    def __init__(self, name, wav_dir, station):\n",
    "        self.name = name\n",
    "        self.station = station\n",
    "        self.kind = ''\n",
    "        self.duration = 0.0\n",
    "        self.power = 0.0\n",
    "        self.calculator(name, wav_dir)\n",
    "    \n",
    "    def calculator(self, audio, wav_dir):\n",
    "        self.kind_set(audio)\n",
    "        self.audio_average_power(wav_dir)\n",
    "    \n",
    "    def audio_average_power(self, wav_dir):\n",
    "         \n",
    "#         main = '/home/kasparov/Documentos/20190114_vpoblete/20221027_joaquin/fusa_power/'\n",
    "        main = \"Z:/Proyectos/AuMiLab/FUSA/Noise/fusa_power/\"\n",
    "\n",
    "        wav_path = os.path.join(main + wav_dir, self.name)\n",
    "        waveform, sample_rate = torchaudio.load(wav_path)\n",
    "        num_channels, num_frames = waveform.shape\n",
    "        \n",
    "        if waveform.numpy().shape[1] != 0:\n",
    "            \n",
    "            ft_wf = np.fft.fft(waveform.numpy())/(math.sqrt(waveform.numpy().shape[1]))\n",
    "            \n",
    "            parseval_waveform = np.sum(waveform.numpy()**2)\n",
    "            parseval_fourier_transform = np.sum(np.abs(ft_wf)**2)\n",
    "            \n",
    "            if (np.float32(round(parseval_waveform,1)) == np.float32(round(parseval_fourier_transform,1))):\n",
    "                \n",
    "                self.power = parseval_waveform\n",
    "                \n",
    "                duration = torch.arange(0, num_frames) / sample_rate\n",
    "                self.duration = duration.numpy()[-1]\n",
    "            \n",
    "    def kind_set(self, audio):\n",
    "        text = audio.split('_')\n",
    "        self.kind = text[2]\n",
    "\n",
    "def folders(wav_dir, station):\n",
    "    \n",
    "    noise = 'ruido/'\n",
    "    not_noise = 'audios_all_classes/'\n",
    "    wav_noise_names = os.listdir(wav_dir + noise)\n",
    "    wav_not_noise_names = os.listdir(wav_dir + not_noise)\n",
    "    \n",
    "    print(station.name, \" -> In Noise folder\")\n",
    "    \n",
    "    for w in wav_noise_names:\n",
    "        station.set_event(Event(w, wav_dir + noise, station.name))\n",
    "    \n",
    "    print(station.name, \" -> In Not Noise folder\")\n",
    "    \n",
    "    for nn in wav_not_noise_names:\n",
    "        station.set_event(Event(nn, wav_dir + not_noise, station.name))\n",
    "    \n",
    "    return station\n",
    "\n",
    "def dataframer(stations):\n",
    "    \n",
    "    thrshold = 0.5\n",
    "    data = []\n",
    "    framer = []\n",
    "    \n",
    "    for s in stations:\n",
    "        \n",
    "        data.clear()\n",
    "        \n",
    "        for e in s.events:\n",
    "            \n",
    "            if e.duration >= thrshold:\n",
    "                data.append([s.name, e.name, e.kind, e.duration, e.power])\n",
    "        \n",
    "        framer.append(pd.DataFrame(data.copy(), columns = ['station', 'audio', 'class', 'duration', 'power']))\n",
    "    \n",
    "    return framer\n",
    "\n",
    "#returns a slice of dataframes!!\n",
    "def _initiator(thrshold):\n",
    "    \n",
    "    stations = []\n",
    "    fls = []\n",
    "\n",
    "#     main = \"Z:/Proyectos/AuMiLab/FUSA/Noise/fusa_power/\"\n",
    "#     wav_dir = '/home/kasparov/Documentos/20190114_vpoblete/20221019_Wasserstein/'\n",
    "    \n",
    "    fls.append(\"split_signals_into_labels_and_noise_20221020_for_ronda1/\")\n",
    "    fls.append(\"split_signals_into_labels_and_noise_20221022_for_ronda2/\")\n",
    "    fls.append(\"split_signals_into_labels_and_noise_20221020_for_ronda3/\")\n",
    "    fls.append(\"split_signals_into_labels_and_noise_20221020_for_ronda4/\")\n",
    "    fls.append(\"split_signals_into_labels_and_noise_20221020_for_ronda5/\")\n",
    "    fls.append(\"split_signals_into_labels_and_noise_20221022_for_ronda6/\")\n",
    "    \n",
    "    \n",
    "    for f in fls:\n",
    "        stations.append(Station(f.split(\"_\")[8], thrshold))\n",
    "    \n",
    "    for s in stations:\n",
    "        \n",
    "        for f in fls:\n",
    "            if(f.split(\"_\")[8] == s.name):\n",
    "                print(\"Working in: \", s.name)\n",
    "                s = folders(f, s)\n",
    "                break\n",
    "            \n",
    "    return stations, fls\n",
    "\n",
    "def _writer(stations):\n",
    "    \n",
    "    filewriter = open(\"stations/stations.fusa\", \"wb\")\n",
    "    stations = pickle.dump(stations, filewriter)\n",
    "    filewriter.close()\n",
    "    \n",
    "def _reader():\n",
    "    \n",
    "    filereader = open(\"stations/stations.fusa\", \"rb\")\n",
    "    stations = pickle.load(filereader)\n",
    "    filereader.close()\n",
    "    \n",
    "    return stations\n",
    "\n",
    "def _copier(stations, fls):\n",
    "    \n",
    "#     main = '/home/kasparov/Documentos/20190114_vpoblete/20221027_joaquin/fusa_power/'\n",
    "    main = \"Z:/Proyectos/AuMiLab/FUSA/Noise/fusa_power/\"\n",
    "    noise = 'ruido/'\n",
    "    not_noise = 'audios_all_classes/'\n",
    "    \n",
    "    for s in stations:\n",
    "        counter = 0\n",
    "        l = len(s.events)\n",
    "        \n",
    "        for e in s.events:\n",
    "            \n",
    "            clear_output()\n",
    "            print(\"In \", s.name, \"  Files copied:  \",counter, \"/\", l)\n",
    "            for f in fls:\n",
    "                if(e.station == f.split(\"_\")[8]):\n",
    "                    counter = counter + 1\n",
    "\n",
    "                    if(\"ruido\" in e.name):\n",
    "                        item = main+f+noise+e.name\n",
    "                        shutil.copy(item, main+\"stations/\"+noise)\n",
    "                        break\n",
    "                    else:\n",
    "                        item = main+f+not_noise+e.name\n",
    "                        shutil.copy(item, main+\"stations/\"+not_noise)\n",
    "                        break\n",
    "                        \n",
    "def _npz_copier(stations, fls):\n",
    "    \n",
    "#     main = '/home/kasparov/Documentos/20190114_vpoblete/20221027_joaquin/fusa_power/'\n",
    "    main = \"Z:/Proyectos/AuMiLab/FUSA/Noise/fusa_power/\"\n",
    "    \n",
    "    noise = 'ruido/'\n",
    "    not_noise = 'audios_all_classes/'\n",
    "    \n",
    "    for s in stations:\n",
    "        counter = 0\n",
    "        l = len(s.events)\n",
    "        \n",
    "        for e in s.events:\n",
    "            \n",
    "            clear_output()\n",
    "            print(\"In \", s.name, \"  Files copied:  \",counter, \"/\", l)\n",
    "            for f in fls:\n",
    "                if(e.station == f.split(\"_\")[8]):\n",
    "                    \n",
    "                    if(\"ruido\" in e.name):\n",
    "                        item = main+f+noise\n",
    "                        filename = item+e.name\n",
    "                        newit = main + \"stations/\" + noise\n",
    "                        \n",
    "                        cep_filename = cepstrum(filename)\n",
    "                        newfile = newit+e.station.replace('/', '')+'_'+'noise'+str(counter)+'.npz'\n",
    "                        np.savez(newfile, cep_filename)\n",
    "                        counter += 1\n",
    "                        break\n",
    "                        \n",
    "                    else:\n",
    "                        item = main+f+not_noise\n",
    "                        filename = item+e.name\n",
    "                        newit = main + \"stations/\" + not_noise\n",
    "                        \n",
    "                        cep_filename = cepstrum(filename)\n",
    "                        newfile = newit+e.station.replace('/', '')+'_'+'event'+str(counter)+'.npz'\n",
    "                        np.savez(newfile, cep_filename)\n",
    "                        counter += 1\n",
    "                        break\n",
    "            \n",
    "                        \n",
    "    "
   ]
  },
  {
   "cell_type": "code",
   "execution_count": 7,
   "id": "3555c062",
   "metadata": {
    "scrolled": false
   },
   "outputs": [
    {
     "name": "stdout",
     "output_type": "stream",
     "text": [
      "Working in:  ronda1/\n",
      "ronda1/  -> In Noise folder\n",
      "ronda1/  -> In Not Noise folder\n",
      "Working in:  ronda2/\n",
      "ronda2/  -> In Noise folder\n",
      "ronda2/  -> In Not Noise folder\n",
      "Working in:  ronda3/\n",
      "ronda3/  -> In Noise folder\n",
      "ronda3/  -> In Not Noise folder\n",
      "Working in:  ronda4/\n",
      "ronda4/  -> In Noise folder\n",
      "ronda4/  -> In Not Noise folder\n",
      "Working in:  ronda5/\n",
      "ronda5/  -> In Noise folder\n",
      "ronda5/  -> In Not Noise folder\n",
      "Working in:  ronda6/\n",
      "ronda6/  -> In Noise folder\n",
      "ronda6/  -> In Not Noise folder\n",
      "10.7\n"
     ]
    }
   ],
   "source": [
    "start = time.time()\n",
    "\n",
    "stations, fls = _initiator(0.5)\n",
    "\n",
    "end = time.time()\n",
    "\n",
    "print(round(end-start,1))\n",
    "\n",
    "_writer(stations)"
   ]
  },
  {
   "cell_type": "code",
   "execution_count": 8,
   "id": "65952591",
   "metadata": {
    "scrolled": true
   },
   "outputs": [],
   "source": [
    "stations = _reader()"
   ]
  },
  {
   "cell_type": "code",
   "execution_count": 9,
   "id": "5b592dc4",
   "metadata": {},
   "outputs": [],
   "source": [
    "fls=[]\n",
    "fls.append(\"split_signals_into_labels_and_noise_20221020_for_ronda1/\")\n",
    "fls.append(\"split_signals_into_labels_and_noise_20221022_for_ronda2/\")\n",
    "fls.append(\"split_signals_into_labels_and_noise_20221020_for_ronda3/\")\n",
    "fls.append(\"split_signals_into_labels_and_noise_20221020_for_ronda4/\")\n",
    "fls.append(\"split_signals_into_labels_and_noise_20221020_for_ronda5/\")\n",
    "fls.append(\"split_signals_into_labels_and_noise_20221022_for_ronda6/\")"
   ]
  },
  {
   "cell_type": "code",
   "execution_count": 10,
   "id": "4d20d34d",
   "metadata": {},
   "outputs": [
    {
     "data": {
      "text/plain": [
       "[<__main__.Station at 0x17eff6c9580>,\n",
       " <__main__.Station at 0x17eff70aca0>,\n",
       " <__main__.Station at 0x17eff70a250>,\n",
       " <__main__.Station at 0x17eff70e0a0>,\n",
       " <__main__.Station at 0x17eff70ea90>,\n",
       " <__main__.Station at 0x17eff70e250>]"
      ]
     },
     "execution_count": 10,
     "metadata": {},
     "output_type": "execute_result"
    }
   ],
   "source": [
    "stations"
   ]
  },
  {
   "cell_type": "code",
   "execution_count": 47,
   "id": "ddca29f0",
   "metadata": {
    "scrolled": true
   },
   "outputs": [
    {
     "name": "stdout",
     "output_type": "stream",
     "text": [
      "In  ronda6/   Files copied:   1 / 2\n"
     ]
    }
   ],
   "source": [
    "_npz_copier(stations, fls)"
   ]
  },
  {
   "cell_type": "code",
   "execution_count": 32,
   "id": "ff29afc8",
   "metadata": {
    "scrolled": true
   },
   "outputs": [],
   "source": [
    "df = dataframer(stations)"
   ]
  },
  {
   "cell_type": "code",
   "execution_count": 33,
   "id": "c9aef9cb",
   "metadata": {
    "scrolled": false
   },
   "outputs": [
    {
     "data": {
      "text/plain": [
       "<AxesSubplot: xlabel='duration', ylabel='power'>"
      ]
     },
     "execution_count": 33,
     "metadata": {},
     "output_type": "execute_result"
    },
    {
     "data": {
      "image/png": "[encoded data removed]",
      "text/plain": [
       "<Figure size 640x480 with 1 Axes>"
      ]
     },
     "metadata": {},
     "output_type": "display_data"
    }
   ],
   "source": [
    "df[0].plot(x='duration', y='power', kind='scatter')\t"
   ]
  }
 ],
 "metadata": {
  "kernelspec": {
   "display_name": "fusa_power",
   "language": "python",
   "name": "fusa_power"
  },
  "language_info": {
   "codemirror_mode": {
    "name": "ipython",
    "version": 3
   },
   "file_extension": ".py",
   "mimetype": "text/x-python",
   "name": "python",
   "nbconvert_exporter": "python",
   "pygments_lexer": "ipython3",
   "version": "3.8.10"
  }
 },
 "nbformat": 4,
 "nbformat_minor": 5
}
