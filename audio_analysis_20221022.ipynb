{
 "cells": [
  {
   "cell_type": "code",
   "execution_count": 1,
   "id": "b63c134a",
   "metadata": {},
   "outputs": [],
   "source": [
    "import os\n",
    "import torch\n",
    "import torchaudio\n",
    "from matplotlib import pyplot as plt\n",
    "from IPython.display import Audio, display, clear_output\n",
    "import math\n",
    "import numpy as np\n",
    "import pandas as pd\n",
    "import pickle\n",
    "import time\n",
    "import shutil"
   ]
  },
  {
   "cell_type": "code",
   "execution_count": 9,
   "id": "de08d7ba",
   "metadata": {},
   "outputs": [],
   "source": [
    "class Station:\n",
    "    \n",
    "    def __init__(self, name):\n",
    "        self.name = name\n",
    "        self.events = []\n",
    "        \n",
    "    def set_event(self, event):\n",
    "        self.events.append(event)\n",
    "\n",
    "class Event:\n",
    "    \n",
    "    def __init__(self, name, wav_dir, station):\n",
    "        self.name = name\n",
    "        self.station = station\n",
    "        self.kind = ''\n",
    "        self.duration = 0.0\n",
    "        self.power = 0.0\n",
    "        self.calculator(name, wav_dir)\n",
    "    \n",
    "    def calculator(self, audio, wav_dir):\n",
    "        self.kind_set(audio)\n",
    "        self.audio_average_power(wav_dir)\n",
    "    \n",
    "    def audio_average_power(self, wav_dir):\n",
    "         \n",
    "#         main = '/home/kasparov/Documentos/20190114_vpoblete/20221019_Wasserstein/'\n",
    "        main = \"Z:/Proyectos/AuMiLab/FUSA/Noise/fusa_power/\"\n",
    "\n",
    "        wav_path = os.path.join(main + wav_dir, self.name)\n",
    "        waveform, sample_rate = torchaudio.load(wav_path)\n",
    "        num_channels, num_frames = waveform.shape\n",
    "        \n",
    "        if waveform.numpy().shape[1] != 0:\n",
    "            \n",
    "            ft_wf = np.fft.fft(waveform.numpy())/(math.sqrt(waveform.numpy().shape[1]))\n",
    "            \n",
    "            parseval_waveform = np.sum(waveform.numpy()**2)\n",
    "            parseval_fourier_transform = np.sum(np.abs(ft_wf)**2)\n",
    "            \n",
    "            if (np.float32(round(parseval_waveform,1)) == np.float32(round(parseval_fourier_transform,1))):\n",
    "                \n",
    "                self.power = parseval_waveform\n",
    "                \n",
    "                duration = torch.arange(0, num_frames) / sample_rate\n",
    "                self.duration = duration.numpy()[-1]\n",
    "            \n",
    "    def kind_set(self, audio):\n",
    "        text = audio.split('_')\n",
    "        self.kind = text[2]\n",
    "\n",
    "def folders(wav_dir, station):\n",
    "    \n",
    "    noise = 'ruido/'\n",
    "    not_noise = 'audios_all_classes/'\n",
    "    wav_noise_names = os.listdir(wav_dir + noise)\n",
    "    wav_not_noise_names = os.listdir(wav_dir + not_noise)\n",
    "    \n",
    "    print(station.name, \" -> In Noise folder\")\n",
    "    \n",
    "    for w in wav_noise_names:\n",
    "        station.set_event(Event(w, wav_dir + noise, station.name))\n",
    "    \n",
    "    print(station.name, \" -> In Not Noise folder\")\n",
    "    \n",
    "    for nn in wav_not_noise_names:\n",
    "        station.set_event(Event(nn, wav_dir + not_noise, station.name))\n",
    "    \n",
    "    return station\n",
    "\n",
    "def dataframer(stations):\n",
    "    \n",
    "    thrshold = 0.5\n",
    "    data = []\n",
    "    framer = []\n",
    "    \n",
    "    for s in stations:\n",
    "        \n",
    "        data.clear()\n",
    "        \n",
    "        for e in s.events:\n",
    "            \n",
    "            if e.duration >= thrshold:\n",
    "                data.append([s.name, e.name, e.kind, e.duration, e.power])\n",
    "        \n",
    "        framer.append(pd.DataFrame(data.copy(), columns = ['station', 'audio', 'class', 'duration', 'power']))\n",
    "    \n",
    "    return framer\n",
    "\n",
    "#returns a slice of dataframes!!\n",
    "def _initiator():\n",
    "    \n",
    "    stations = []\n",
    "    fls = []\n",
    "\n",
    "#     main = \"Z:/Proyectos/AuMiLab/FUSA/Noise/fusa_power/\"\n",
    "#     wav_dir = '/home/kasparov/Documentos/20190114_vpoblete/20221019_Wasserstein/'\n",
    "    \n",
    "    fls.append(\"split_signals_into_labels_and_noise_20221020_for_ronda1/\")\n",
    "    fls.append(\"split_signals_into_labels_and_noise_20221022_for_ronda2/\")\n",
    "    fls.append(\"split_signals_into_labels_and_noise_20221020_for_ronda3/\")\n",
    "    fls.append(\"split_signals_into_labels_and_noise_20221020_for_ronda4/\")\n",
    "    fls.append(\"split_signals_into_labels_and_noise_20221020_for_ronda5/\")\n",
    "    fls.append(\"split_signals_into_labels_and_noise_20221022_for_ronda6/\")\n",
    "    \n",
    "    \n",
    "    for f in fls:\n",
    "        stations.append(Station(f.split(\"_\")[8]))\n",
    "    \n",
    "    for s in stations:\n",
    "        \n",
    "        for f in fls:\n",
    "            if(f.split(\"_\")[8] == s.name):\n",
    "                print(\"Working in: \", s.name)\n",
    "                s = folders(f, s)\n",
    "                break\n",
    "            \n",
    "    return stations, fls\n",
    "\n",
    "def _writer(stations):\n",
    "    \n",
    "    filewriter = open(\"stations/stations.fusa\", \"wb\")\n",
    "    stations = pickle.dump(stations, filewriter)\n",
    "    filewriter.close()\n",
    "    \n",
    "def _reader():\n",
    "    \n",
    "    filereader = open(\"stations/stations.fusa\", \"rb\")\n",
    "    stations = pickle.load(filereader)\n",
    "    filereader.close()\n",
    "    \n",
    "    return stations\n",
    "\n",
    "def _copier(stations, fls):\n",
    "    \n",
    "#     main = '/home/kasparov/Documentos/20190114_vpoblete/20221019_Wasserstein/'\n",
    "    main = \"Z:/Proyectos/AuMiLab/FUSA/Noise/fusa_power/\"\n",
    "    noise = 'ruido/'\n",
    "    not_noise = 'audios_all_classes/'\n",
    "    \n",
    "    for s in stations:\n",
    "        counter = 0\n",
    "        l = len(s.events)\n",
    "        clear_output()\n",
    "        for e in s.events:\n",
    "            \n",
    "            \n",
    "            print(\"In \", s.name, \"  Files copied:  \",counter, \"/\", l)\n",
    "            for f in fls:\n",
    "                if(e.station == f.split(\"_\")[8]):\n",
    "                    counter = counter + 1\n",
    "\n",
    "                    if(\"ruido\" in e.name):\n",
    "                        item = main+f+noise+e.name\n",
    "                        shutil.copy(item, main+\"stations/\"+noise)\n",
    "                    else:\n",
    "                        item = main+f+not_noise+e.name\n",
    "                        shutil.copy(item, main+\"stations/\"+not_noise)\n",
    "\n",
    "    "
   ]
  },
  {
   "cell_type": "code",
   "execution_count": 3,
   "id": "3555c062",
   "metadata": {
    "scrolled": false
   },
   "outputs": [
    {
     "name": "stdout",
     "output_type": "stream",
     "text": [
      "Working in:  ronda1/\n",
      "ronda1/  -> In Noise folder\n",
      "ronda1/  -> In Not Noise folder\n",
      "Working in:  ronda2/\n",
      "ronda2/  -> In Noise folder\n",
      "ronda2/  -> In Not Noise folder\n",
      "Working in:  ronda3/\n",
      "ronda3/  -> In Noise folder\n",
      "ronda3/  -> In Not Noise folder\n",
      "Working in:  ronda4/\n",
      "ronda4/  -> In Noise folder\n",
      "ronda4/  -> In Not Noise folder\n",
      "Working in:  ronda5/\n",
      "ronda5/  -> In Noise folder\n",
      "ronda5/  -> In Not Noise folder\n",
      "Working in:  ronda6/\n",
      "ronda6/  -> In Noise folder\n",
      "ronda6/  -> In Not Noise folder\n",
      "9.1\n"
     ]
    }
   ],
   "source": [
    "start = time.time()\n",
    "\n",
    "stations, fls = _initiator()\n",
    "\n",
    "end = time.time()\n",
    "\n",
    "print(round(end-start,1))\n",
    "\n",
    "_writer(stations)"
   ]
  },
  {
   "cell_type": "code",
   "execution_count": 4,
   "id": "65952591",
   "metadata": {
    "scrolled": true
   },
   "outputs": [],
   "source": [
    "stations = _reader()"
   ]
  },
  {
   "cell_type": "code",
   "execution_count": 10,
   "id": "ddca29f0",
   "metadata": {
    "scrolled": false
   },
   "outputs": [
    {
     "name": "stdout",
     "output_type": "stream",
     "text": [
      "In  ronda6/   Files copied:   0 / 4\n",
      "In  ronda6/   Files copied:   1 / 4\n",
      "In  ronda6/   Files copied:   2 / 4\n",
      "In  ronda6/   Files copied:   3 / 4\n"
     ]
    }
   ],
   "source": [
    "_copier(stations, fls)"
   ]
  },
  {
   "cell_type": "code",
   "execution_count": null,
   "id": "d509e3b2",
   "metadata": {},
   "outputs": [],
   "source": []
  },
  {
   "cell_type": "code",
   "execution_count": 6,
   "id": "ff29afc8",
   "metadata": {
    "scrolled": true
   },
   "outputs": [],
   "source": [
    "df = dataframer(stations)"
   ]
  },
  {
   "cell_type": "code",
   "execution_count": 7,
   "id": "c9aef9cb",
   "metadata": {
    "scrolled": false
   },
   "outputs": [
    {
     "data": {
      "text/plain": [
       "[   station                                        audio   class   duration  \\\n",
       " 0  ronda1/          1653706209_1653706269_ruido_160.wav   ruido  27.045750   \n",
       " 1  ronda1/      16537003213876_1653700936_Lluvia_76.wav  Lluvia  50.046501   \n",
       " 2  ronda1/      1653700876_16537007686936_Lluvia_76.wav  Lluvia  50.046501   \n",
       " 3  ronda1/  1653700876_1653700936_Lluvia_76 - copia.wav  Lluvia  50.046501   \n",
       " 4  ronda1/          1653700876_1653700936_Lluvia_76.wav  Lluvia  50.046501   \n",
       " 5  ronda1/      1653700876_16578673700936_Lluvia_76.wav  Lluvia  50.046501   \n",
       " 6  ronda1/        165372300876_1653700936_Lluvia_76.wav  Lluvia  50.046501   \n",
       " \n",
       "        power  \n",
       " 0   1.402201  \n",
       " 1  10.045271  \n",
       " 2  10.045271  \n",
       " 3  10.045271  \n",
       " 4  10.045271  \n",
       " 5  10.045271  \n",
       " 6  10.045271  ,\n",
       "    station                                 audio   class   duration     power\n",
       " 0  ronda2/    1655671051_1655671111_ruido_60.wav   ruido  28.344999  8.212375\n",
       " 1  ronda2/  1655721332_1655721392_Viento_104.wav  Viento  31.520000  1.810563,\n",
       "    station                                     audio     class   duration  \\\n",
       " 0  ronda3/   62d4ea057a2acbde063e9252_ruido_3958.wav  3958.wav  32.824814   \n",
       " 1  ronda3/  62d177a07a2acbde063e82b8_Musica_3718.wav  3718.wav  29.999979   \n",
       " \n",
       "        power  \n",
       " 0  28.706388  \n",
       " 1   7.759609  ,\n",
       "    station                                              audio     class  \\\n",
       " 0  ronda4/  EM2030-00750-2022-06-24T11-10-25-075dB_ruido_1...  1421.wav   \n",
       " 1  ronda4/  EM2030-00750-2022-06-18T16-03-54-062dB_Perro_1...  1332.wav   \n",
       " \n",
       "    duration      power  \n",
       " 0  8.090489  12.859236  \n",
       " 1  9.999990   1.182847  ,\n",
       "    station                                              audio     class  \\\n",
       " 0  ronda5/  EM2030-00849-2021-11-15T06-10-04-064dB_Ave_158...  1587.wav   \n",
       " \n",
       "    duration     power  \n",
       " 0  19.99999  6.525918  ,\n",
       "    station                                    audio     class   duration  \\\n",
       " 0  ronda6/  62e386697a2acbde063ecdd4_ruido_1001.wav  1001.wav  27.430708   \n",
       " 1  ronda6/     62e3839f7a2acbde063ecd94_Bus_958.wav   958.wav  29.999979   \n",
       " \n",
       "         power  \n",
       " 0  318.093781  \n",
       " 1  507.225098  ]"
      ]
     },
     "execution_count": 7,
     "metadata": {},
     "output_type": "execute_result"
    }
   ],
   "source": [
    "df"
   ]
  },
  {
   "cell_type": "code",
   "execution_count": 8,
   "id": "a581afe6",
   "metadata": {},
   "outputs": [
    {
     "name": "stdout",
     "output_type": "stream",
     "text": [
      "9\n"
     ]
    }
   ],
   "source": [
    "for i in range(10):\n",
    "    print(i)\n",
    "    clear_output(wait = True)"
   ]
  }
 ],
 "metadata": {
  "kernelspec": {
   "display_name": "fusa_power",
   "language": "python",
   "name": "fusa_power"
  },
  "language_info": {
   "codemirror_mode": {
    "name": "ipython",
    "version": 3
   },
   "file_extension": ".py",
   "mimetype": "text/x-python",
   "name": "python",
   "nbconvert_exporter": "python",
   "pygments_lexer": "ipython3",
   "version": "3.8.10"
  }
 },
 "nbformat": 4,
 "nbformat_minor": 5
}
