{
 "cells": [
  {
   "cell_type": "code",
   "execution_count": null,
   "id": "d8eef0b6",
   "metadata": {},
   "outputs": [],
   "source": [
    "import os\n",
    "import torch\n",
    "import torchaudio\n",
    "from matplotlib import pyplot as plt\n",
    "from IPython.display import Audio, display"
   ]
  },
  {
   "cell_type": "code",
   "execution_count": 121,
   "id": "840a0a23",
   "metadata": {},
   "outputs": [],
   "source": [
    "class Complex:\n",
    "    # A simple example class\"\"\"\n",
    "    def __init__(self, realpart, imagpart):\n",
    "        self.r = realpart\n",
    "        self.i = imagpart\n",
    "        \n",
    "class Dog:\n",
    "    \n",
    "    kind = 'canino'\n",
    "    \n",
    "    def __init__(self, name):\n",
    "        \n",
    "        self.name = name\n",
    "        self.tricks = []\n",
    "        \n",
    "    def add_trick(self, trick):\n",
    "        \n",
    "        self.tricks.append(trick)\n",
    "        \n",
    "class Event:\n",
    "    # las clases pueden contener funciones, a las que llamamos métodos.\n",
    "    # Todas las funciones definidas dentro de una clase deberán tener, al menos, \n",
    "    # un argumento, que por convención se lo llama self\n",
    "    # self: es una referencia a la instancia de la clase.\n",
    "    # Una clase también puede contener variables, a las que se conoce con el nombre de atributos.\n",
    "    # Para crear atributos definimos un método especial llamado __init__()\n",
    "    # conocido también como constructor o inicializador\n",
    "    def saludar(self): \n",
    "        \n",
    "        print('Hola Víctor')"
   ]
  },
  {
   "cell_type": "code",
   "execution_count": 120,
   "id": "e3a4accb",
   "metadata": {},
   "outputs": [
    {
     "name": "stdout",
     "output_type": "stream",
     "text": [
      "Hola Víctor\n"
     ]
    }
   ],
   "source": [
    "# crear una instancia de nuestra clase\n",
    "ev = Event()\n",
    "ev.saludar()"
   ]
  },
  {
   "cell_type": "code",
   "execution_count": 104,
   "id": "c1ea739d",
   "metadata": {},
   "outputs": [
    {
     "name": "stdout",
     "output_type": "stream",
     "text": [
      "Coka\n",
      "Chloe\n",
      "['run']\n",
      "['happy']\n"
     ]
    }
   ],
   "source": [
    "co = Dog('Coka')\n",
    "ch = Dog('Chloe')\n",
    "#print(d.kind)\n",
    "print(co.name)\n",
    "print(ch.name)\n",
    "\n",
    "co.add_trick('run')\n",
    "ch.add_trick('happy')\n",
    "print(co.tricks)\n",
    "print(ch.tricks)"
   ]
  },
  {
   "cell_type": "code",
   "execution_count": null,
   "id": "c87bb426",
   "metadata": {},
   "outputs": [],
   "source": [
    "x = Complex(1,-5)\n",
    "print(x.r, 'parte real ------' ,x.i, 'parte imaginaria')"
   ]
  },
  {
   "cell_type": "code",
   "execution_count": null,
   "id": "d7705299",
   "metadata": {},
   "outputs": [],
   "source": [
    "class Event:\n",
    "    #A simple event class\n",
    "    \n",
    "    def __init__(self, name):\n",
    "        self.name = name\n",
    "        self.stations = []\n",
    "        self.time = 0\n",
    "        self.counter = 0\n",
    "\n",
    "        print(self.name, \"has been added\")\n",
    "        \n",
    "    def to_dict(self):\n",
    "        return{\n",
    "            \"Name\": self.name,\n",
    "            \"Stations\": self.stations,\n",
    "            \"Time\": self.time\n",
    "        }\n",
    "\n",
    "    def add_station(self, station):\n",
    "        self.stations.append(Station(station))\n",
    "        print(self.stations[len(self.stations)-1].name, \"added to labeller \", self.name)\n",
    "    \n",
    "class Station:\n",
    "    #Audio monitoring stations\n",
    "    \n",
    "    def __init__(self, name):\n",
    "        self.name = name\n",
    "        self.events = []\n",
    "        self.time = 0\n",
    "        self.counter = 0\n",
    "    \n",
    "    def to_dict(self):\n",
    "        return{\n",
    "            \"Name\": self.name,\n",
    "            \"Events\": self.events,\n",
    "            \"Time\": self.time\n",
    "        }\n",
    "    \n",
    "    def add_event(self, event):\n",
    "        self.events.append(Event(event))\n",
    "#         print (self.events[len(self.events)-1].name, \"added to station \", self.name)\n",
    "    \n",
    "class Event:\n",
    "    #Events registrered in stations\n",
    "    \n",
    "    def __init__(self, name):\n",
    "        self.name = name\n",
    "        self.time = 0\n",
    "        self.counter = 0\n",
    "    \n",
    "    def to_dict(self):\n",
    "        return{\n",
    "            \"Name\": self.name,\n",
    "            \"Time\": self.time,\n",
    "            \"Counter\": self.counter\n",
    "        }\n",
    "        "
   ]
  },
  {
   "cell_type": "code",
   "execution_count": null,
   "id": "cf8c7220",
   "metadata": {},
   "outputs": [],
   "source": [
    "def audio_average_power(wav_dir, wav_names):\n",
    "    \n",
    "    average_power_time = []\n",
    "    average_power_ft_wf = []\n",
    "    for j in range(len(wav_names)):\n",
    "        \n",
    "        wav_path = os.path.join(wav_dir, wav_names[j])\n",
    "        waveform, sample_rate = torchaudio.load(wav_path)\n",
    "        \n",
    "        if waveform.numpy().shape[1] != 0:\n",
    "            \n",
    "            ft_wf = np.fft.fft(waveform.numpy())/(math.sqrt(waveform.numpy().shape[1]))\n",
    "            parseval_waveform = np.sum(waveform.numpy()**2)\n",
    "            average_power_time.append(parseval_waveform)\n",
    "            \n",
    "            parseval_fourier_transform = np.sum(np.abs(ft_wf)**2)\n",
    "            average_power_ft_wf.append(parseval_fourier_transform)\n",
    "            #print(average_power_time, \" equals \", average_power_ft_wf)\n",
    "        #average_power_time = [item for item in average_power_time if item <= 100]\n",
    "        #average_power_ft_wf = [item for item in average_power_ft_wf if item <= 100]\n",
    "        \n",
    "    return average_power_time, average_power_ft_wf\n",
    "\n",
    "def plot_waveform(waveform, sample_rate, title=\"power\", xlim=None, ylim=None):\n",
    "    waveform = waveform.numpy()\n",
    "    num_channels, num_frames = waveform.shape\n",
    "    time_axis = torch.arange(0, num_frames) / sample_rate\n",
    "\n",
    "    figure, axes = plt.subplots(num_channels, 1)\n",
    "    if num_channels == 1:\n",
    "        axes = [axes]\n",
    "    for c in range(num_channels):\n",
    "        axes[c].plot(time_axis, waveform[c], linewidth=1)\n",
    "        axes[c].grid(True)\n",
    "        if num_channels > 1:\n",
    "            axes[c].set_ylabel(f'Channel {c+1}')\n",
    "        if xlim:\n",
    "            axes[c].set_xlim(xlim)\n",
    "        if ylim:\n",
    "            axes[c].set_ylim(ylim)\n",
    "    figure.suptitle(title)\n",
    "    plt.show(block=False)\n",
    "\n",
    "def play_audio(waveform, sample_rate):\n",
    "    waveform = waveform.numpy()\n",
    "    \n",
    "    num_channels, num_frames = waveform.shape\n",
    "    \n",
    "    if num_channels == 1:\n",
    "        display(Audio(waveform[0], rate=sample_rate))\n",
    "    elif num_channels == 2:\n",
    "        display(Audio((waveform[0], waveform[1]), rate=sample_rate))\n",
    "    else:\n",
    "        raise ValueError(\"Waveform with more than 2 channels are not supported.\")"
   ]
  },
  {
   "cell_type": "code",
   "execution_count": null,
   "id": "94db2e4f",
   "metadata": {},
   "outputs": [],
   "source": [
    "classes = 'audios_all_classes/'\n",
    "ruido   = 'ruido/'\n",
    "actua_round = 'ronda1/'\n",
    "noise_path  = '/home/kasparov/Documentos/20190114_vpoblete/20221019_Wasserstein/split_signals_into_labels_and_noise_20221020_for_' + actua_round + ruido\n",
    "\n",
    "wav_noise_names = os.listdir(noise_path)\n"
   ]
  },
  {
   "cell_type": "code",
   "execution_count": null,
   "id": "80c0a47e",
   "metadata": {},
   "outputs": [],
   "source": [
    "# posición\n",
    "for a in range(len(wav_noise_names)):\n",
    "    if '1653683601_1653683661_ruido_61.wav'==wav_noise_names[a]:\n",
    "        print(a)\n",
    "        break"
   ]
  },
  {
   "cell_type": "code",
   "execution_count": null,
   "id": "cb5592c1",
   "metadata": {},
   "outputs": [],
   "source": [
    "w = wav_noise_names.index('1653712855_1653712915_ruido_231.wav') "
   ]
  },
  {
   "cell_type": "code",
   "execution_count": null,
   "id": "73c19e7d",
   "metadata": {},
   "outputs": [],
   "source": [
    "print(wav_noise_names[233])"
   ]
  },
  {
   "cell_type": "code",
   "execution_count": null,
   "id": "0778d336",
   "metadata": {},
   "outputs": [],
   "source": [
    "waveform, sample_rate = torchaudio.load(noise_path + wav_noise_names[w])"
   ]
  },
  {
   "cell_type": "code",
   "execution_count": null,
   "id": "32d840a0",
   "metadata": {},
   "outputs": [],
   "source": [
    "plot_waveform(waveform, sample_rate)"
   ]
  },
  {
   "cell_type": "code",
   "execution_count": null,
   "id": "c285291e",
   "metadata": {},
   "outputs": [],
   "source": [
    "play_audio(waveform, sample_rate)"
   ]
  },
  {
   "cell_type": "code",
   "execution_count": null,
   "id": "66293c89",
   "metadata": {},
   "outputs": [],
   "source": []
  }
 ],
 "metadata": {
  "kernelspec": {
   "display_name": "wasserstein",
   "language": "python",
   "name": "wasserstein"
  },
  "language_info": {
   "codemirror_mode": {
    "name": "ipython",
    "version": 3
   },
   "file_extension": ".py",
   "mimetype": "text/x-python",
   "name": "python",
   "nbconvert_exporter": "python",
   "pygments_lexer": "ipython3",
   "version": "3.7.7"
  }
 },
 "nbformat": 4,
 "nbformat_minor": 5
}
